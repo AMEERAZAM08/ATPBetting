{
 "cells": [
  {
   "cell_type": "markdown",
   "metadata": {},
   "source": [
    "In this Kernel we'll beat the bookmakers by betting on some well-chosen tennis matches !  \n",
    "All the data is from http://tennis-data.co.uk/data.php.  \n",
    "We have all the tennis matches played in the ATP World Tour (Grand Slams, Masers, Master 1000 & ATP500) since January 2000, and until March 2018. The objective is to generate a non negligibe return on investment."
   ]
  },
  {
   "cell_type": "markdown",
   "metadata": {},
   "source": [
    "## Analysis of the market"
   ]
  },
  {
   "cell_type": "markdown",
   "metadata": {},
   "source": [
    "In this part we'll work with the matches between January 2011 and March 2018.  \n",
    "The data we load contains for each match the winner, the looser, their rankings, the tournaments... and the odds of 2 bookmakers, Pinnacle Sports and Bet365, for both players.   \n"
   ]
  }
 ],
 "metadata": {
  "kernelspec": {
   "display_name": "Python 3",
   "language": "python",
   "name": "python3"
  },
  "language_info": {
   "codemirror_mode": {
    "name": "ipython",
    "version": 3
   },
   "file_extension": ".py",
   "mimetype": "text/x-python",
   "name": "python",
   "nbconvert_exporter": "python",
   "pygments_lexer": "ipython3",
   "version": "3.5.3"
  }
 },
 "nbformat": 4,
 "nbformat_minor": 2
}
